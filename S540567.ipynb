{
 "cells": [
  {
   "cell_type": "markdown",
   "id": "5c8ebabe",
   "metadata": {},
   "source": [
    "# Name \n",
    "\n",
    "Carter Stancil "
   ]
  },
  {
   "cell_type": "code",
   "execution_count": 1,
   "id": "9dd34c73",
   "metadata": {},
   "outputs": [
    {
     "name": "stdout",
     "output_type": "stream",
     "text": [
      "*      *\n",
      "**    **\n",
      "***  ***\n",
      "********\n"
     ]
    }
   ],
   "source": [
    "rows = 4\n",
    "for i in range(1, rows + 1):\n",
    "    left_stars = '*' * i\n",
    "    spaces = ' ' * (2 * (rows - i))\n",
    "    right_stars = '*' * i\n",
    "    print(left_stars + spaces + right_stars)"
   ]
  },
  {
   "cell_type": "code",
   "execution_count": 2,
   "id": "bab5f3f3",
   "metadata": {},
   "outputs": [
    {
     "name": "stderr",
     "output_type": "stream",
     "text": [
      "[NbConvertApp] Converting notebook S540567.ipynb to html\n",
      "[NbConvertApp] Writing 271533 bytes to S540567.html\n"
     ]
    }
   ],
   "source": [
    "!jupyter nbconvert --to html S540567.ipynb"
   ]
  }
 ],
 "metadata": {
  "kernelspec": {
   "display_name": "Python 3",
   "language": "python",
   "name": "python3"
  },
  "language_info": {
   "codemirror_mode": {
    "name": "ipython",
    "version": 3
   },
   "file_extension": ".py",
   "mimetype": "text/x-python",
   "name": "python",
   "nbconvert_exporter": "python",
   "pygments_lexer": "ipython3",
   "version": "3.13.3"
  }
 },
 "nbformat": 4,
 "nbformat_minor": 5
}
